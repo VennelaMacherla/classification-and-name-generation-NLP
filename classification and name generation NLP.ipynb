{
  "nbformat": 4,
  "nbformat_minor": 0,
  "metadata": {
    "colab": {
      "provenance": []
    },
    "kernelspec": {
      "name": "python3",
      "display_name": "Python 3"
    },
    "language_info": {
      "name": "python"
    }
  },
  "cells": [
    {
      "cell_type": "code",
      "source": [
        "\n",
        "import zipfile\n",
        "import os\n",
        "import torch\n",
        "import torch.nn as nn\n",
        "import string\n",
        "import glob\n",
        "import unicodedata\n",
        "import random\n",
        "import matplotlib.pyplot as plt\n",
        "\n",
        "# Extract data from a ZIP file\n",
        "zip_file_path = '/content/data (1).zip'\n",
        "extract_dir = '/content/extracted_data'\n",
        "\n",
        "if not os.path.exists(extract_dir):\n",
        "    with zipfile.ZipFile(zip_file_path, 'r') as zip_ref:\n",
        "        zip_ref.extractall(extract_dir)\n",
        "\n",
        "all_letters = string.ascii_letters + \" .,;'-\"\n",
        "n_letters = len(all_letters) + 1  # Plus EOS marker\n",
        "\n",
        "def unicodeToAscii(s):\n",
        "    return ''.join(\n",
        "        c for c in unicodedata.normalize('NFD', s)\n",
        "        if unicodedata.category(c) != 'Mn' and c in all_letters\n",
        "    )\n",
        "\n",
        "def readLines(filename):\n",
        "    with open(filename, encoding='utf-8') as file:\n",
        "        return [unicodeToAscii(line.strip()) for line in file]\n",
        "\n",
        "def findFiles(path):\n",
        "    return glob.glob(path)\n",
        "\n",
        "data_directory = '/content/extracted_data/data/names/*.txt'\n",
        "\n",
        "category_lines = {}\n",
        "all_categories = []\n",
        "\n",
        "for filename in findFiles(data_directory):\n",
        "    category = os.path.splitext(os.path.basename(filename))[0]\n",
        "    all_categories.append(category)\n",
        "    lines = readLines(filename)\n",
        "    category_lines[category] = lines\n",
        "\n",
        "n_categories = len(all_categories)\n",
        "\n",
        "class LSTMModel(nn.Module):\n",
        "    def __init__(self, input_size, hidden_size, output_size):\n",
        "        super(LSTMModel, self).__init__()\n",
        "        self.input_size = input_size\n",
        "        self.hidden_size = hidden_size\n",
        "        self.output_size = output_size\n",
        "\n",
        "        # Use torch.nn.LSTM instead of the self-defined LSTM\n",
        "        self.lstm = nn.LSTM(input_size, hidden_size)\n",
        "        self.hidden2output = nn.Linear(hidden_size, output_size)\n",
        "        self.dropout = nn.Dropout(0.1)\n",
        "        self.softmax = nn.LogSoftmax(dim=1)\n",
        "\n",
        "    def forward(self, input, hidden):\n",
        "        output, hidden = self.lstm(input.view(1, 1, -1), hidden)\n",
        "        output = self.hidden2output(output.view(1, -1))\n",
        "        output = self.dropout(output)\n",
        "        output = self.softmax(output)\n",
        "        return output, hidden\n",
        "\n",
        "    def initHidden(self):\n",
        "        return (torch.zeros(1, 1, self.hidden_size), torch.zeros(1, 1, self.hidden_size))\n",
        "\n",
        "def randomTrainingPair():\n",
        "    category = random.choice(all_categories)\n",
        "    line = random.choice(category_lines[category])\n",
        "    return category, line\n",
        "\n",
        "def categoryTensor(category):\n",
        "    category_index = all_categories.index(category)\n",
        "    return torch.tensor([category_index], dtype=torch.long)\n",
        "\n",
        "def inputTensor(line):\n",
        "    tensor = torch.zeros(len(line), 1, n_letters)\n",
        "    for li, letter in enumerate(line):\n",
        "        tensor[li][0][all_letters.find(letter)] = 1\n",
        "    return tensor\n",
        "\n",
        "def targetTensor(line):\n",
        "    letter_indexes = [all_letters.find(line[li]) for li in range(1, len(line))]\n",
        "    letter_indexes.append(n_letters - 1)  # EOS marker\n",
        "    return torch.tensor(letter_indexes, dtype=torch.long)\n",
        "\n",
        "def train(category_tensor, input_line_tensor, target_line_tensor, lstm_model, criterion, optimizer):\n",
        "    target_line_tensor.unsqueeze_(-1)\n",
        "    hidden = lstm_model.initHidden()\n",
        "    lstm_model.zero_grad()\n",
        "    loss = 0\n",
        "\n",
        "    for i in range(input_line_tensor.size(0)):\n",
        "        output, hidden = lstm_model(input_line_tensor[i], hidden)\n",
        "        l = criterion(output, target_line_tensor[i])\n",
        "        loss += l\n",
        "\n",
        "    loss.backward()\n",
        "\n",
        "    for p in lstm_model.parameters():\n",
        "        p.data.add_(p.grad.data, alpha=-learning_rate)\n",
        "\n",
        "    return output, loss.item() / input_line_tensor.size(0)\n",
        "\n",
        "# Training loop\n",
        "n_iters = 100000\n",
        "print_every = 5000\n",
        "plot_every = 500\n",
        "all_losses = []\n",
        "total_loss = 0\n",
        "\n",
        "lstm_model = LSTMModel(n_letters, 128, n_letters)\n",
        "criterion = nn.NLLLoss()\n",
        "learning_rate = 0.0005\n",
        "optimizer = torch.optim.SGD(lstm_model.parameters(), lr=learning_rate)\n",
        "\n",
        "for iter in range(1, n_iters + 1):\n",
        "    output, loss = train(*randomTrainingExample(), lstm_model, criterion, optimizer)\n",
        "    total_loss += loss\n",
        "\n",
        "    if iter % print_every == 0:\n",
        "        print('Iteration: %d, Loss: %.4f' % (iter, loss))\n",
        "\n",
        "    if iter % plot_every == 0:\n",
        "        all_losses.append(total_loss / plot_every)\n",
        "        total_loss = 0\n"
      ],
      "metadata": {
        "id": "XbXwuJ07fNni",
        "colab": {
          "base_uri": "https://localhost:8080/"
        },
        "outputId": "95c32624-27b0-4fe9-e148-33a8d5a1e9f3"
      },
      "execution_count": 23,
      "outputs": [
        {
          "output_type": "stream",
          "name": "stdout",
          "text": [
            "Iteration: 5000, Loss: 2.9291\n",
            "Iteration: 10000, Loss: 3.7369\n",
            "Iteration: 15000, Loss: 2.6299\n",
            "Iteration: 20000, Loss: 2.9109\n",
            "Iteration: 25000, Loss: 2.4023\n",
            "Iteration: 30000, Loss: 2.5594\n",
            "Iteration: 35000, Loss: 3.4722\n",
            "Iteration: 40000, Loss: 3.2730\n",
            "Iteration: 45000, Loss: 2.5336\n",
            "Iteration: 50000, Loss: 3.1566\n",
            "Iteration: 55000, Loss: 2.6131\n",
            "Iteration: 60000, Loss: 3.2627\n",
            "Iteration: 65000, Loss: 3.1135\n",
            "Iteration: 70000, Loss: 2.8779\n",
            "Iteration: 75000, Loss: 2.8286\n",
            "Iteration: 80000, Loss: 2.7505\n",
            "Iteration: 85000, Loss: 2.6966\n",
            "Iteration: 90000, Loss: 2.9204\n",
            "Iteration: 95000, Loss: 3.5869\n",
            "Iteration: 100000, Loss: 2.7576\n"
          ]
        }
      ]
    },
    {
      "cell_type": "code",
      "source": [
        "import matplotlib.pyplot as plt\n",
        "\n",
        "plt.figure()\n",
        "plt.plot(all_losses)"
      ],
      "metadata": {
        "colab": {
          "base_uri": "https://localhost:8080/",
          "height": 451
        },
        "id": "TZ8aSF0rB1HM",
        "outputId": "bb07ff87-6b62-460f-ac94-ff16fd3de083"
      },
      "execution_count": 19,
      "outputs": [
        {
          "output_type": "execute_result",
          "data": {
            "text/plain": [
              "[<matplotlib.lines.Line2D at 0x78125ecce290>]"
            ]
          },
          "metadata": {},
          "execution_count": 19
        },
        {
          "output_type": "display_data",
          "data": {
            "text/plain": [
              "<Figure size 640x480 with 1 Axes>"
            ],
            "image/png": "[encoded data removed]"
          },
          "metadata": {}
        }
      ]
    },
    {
      "cell_type": "code",
      "source": [
        "max_length = 20\n",
        "\n",
        "# Sample from a category and starting letter\n",
        "def sample(category, start_letter='A'):\n",
        "    with torch.no_grad():  # no need to track history in sampling\n",
        "        category_tensor = categoryTensor(category)\n",
        "        input = inputTensor(start_letter)\n",
        "        hidden = rnn.initHidden()\n",
        "\n",
        "        output_name = start_letter\n",
        "\n",
        "        for i in range(max_length):\n",
        "            output, hidden = rnn(category_tensor, input[0], hidden)\n",
        "            topv, topi = output.topk(1)\n",
        "            topi = topi[0][0]\n",
        "            if topi == n_letters - 1:\n",
        "                break\n",
        "            else:\n",
        "                letter = all_letters[topi]\n",
        "                output_name += letter\n",
        "            input = inputTensor(letter)\n",
        "\n",
        "        return output_name\n",
        "\n",
        "# Get multiple samples from one category and multiple starting letters\n",
        "def samples(category, start_letters='ABC'):\n",
        "    for start_letter in start_letters:\n",
        "        print(sample(category, start_letter))\n",
        "\n",
        "samples('Russian', 'RUS')\n",
        "\n",
        "samples('German', 'GER')\n",
        "\n",
        "samples('Spanish', 'SPA')\n",
        "\n",
        "samples('Chinese', 'CHI')"
      ],
      "metadata": {
        "colab": {
          "base_uri": "https://localhost:8080/"
        },
        "id": "uzq2i2HEfGIo",
        "outputId": "e1ba65f0-522a-4f1e-9319-037d5df12054"
      },
      "execution_count": null,
      "outputs": [
        {
          "output_type": "stream",
          "name": "stdout",
          "text": [
            "Rovaki\n",
            "Uallan\n",
            "Shishin\n",
            "Genter\n",
            "Eren\n",
            "Romer\n",
            "Salla\n",
            "Paran\n",
            "Aras\n",
            "Chan\n",
            "Han\n",
            "Iuno\n"
          ]
        }
      ]
    }
  ]
}